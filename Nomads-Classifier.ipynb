{
 "cells": [
  {
   "cell_type": "markdown",
   "metadata": {},
   "source": [
    "# This notebook serves as a driver for you to run Nomads-Classifier without AWS.\n",
    "\n",
    "This pipeline will allow you to:\n",
    "1. Pull data from BOSS (big data allowed, assuming you have enough memory)\n",
    "2. Run nomads-unsupervised\n",
    "3. Run nomads-classifier\n",
    "4. Generate PyMeda plots\n",
    "5. Upload to BOSS assuming your token has correct permissions to push to collection \"collman_nomads\"\n",
    "\n",
    "Here's how you can run it:\n",
    "\n",
    "## 1. Provide necessary information:"
   ]
  },
  {
   "cell_type": "code",
   "execution_count": null,
   "metadata": {},
   "outputs": [],
   "source": [
    "\n",
    "boss_host = \"api.boss.neurodata.io\" # do not have to touch this\n",
    "boss_token = <Insert token here> # as string\n",
    "boss_collection = <Insert collection name here> # as string\n",
    "boss_experiment = <Insert experiment name here> # as string\n",
    "z_range = [<z_start>, <z_end>] # z_start, z_end should be valid integers\n",
    "y_range = [<y_start>, <y_end>] # y_start, y_end should be valid integers\n",
    "x_range = [<x_start>, <x_end>] # x_start, x_end should be valid integers\n"
   ]
  },
  {
   "cell_type": "markdown",
   "metadata": {},
   "source": [
    "## 2. Run pipeline!"
   ]
  },
  {
   "cell_type": "code",
   "execution_count": null,
   "metadata": {},
   "outputs": [],
   "source": [
    "import driver\n",
    "driver.driver(boss_host, boss_token, boss_collection, boss_experiment, z_range, y_range, x_range)"
   ]
  },
  {
   "cell_type": "markdown",
   "metadata": {},
   "source": [
    "If any tasks failed, check job.log to see why!"
   ]
  },
  {
   "cell_type": "code",
   "execution_count": null,
   "metadata": {},
   "outputs": [],
   "source": []
  }
 ],
 "metadata": {
  "kernelspec": {
   "display_name": "Python 3",
   "language": "python",
   "name": "python3"
  },
  "language_info": {
   "codemirror_mode": {
    "name": "ipython",
    "version": 3
   },
   "file_extension": ".py",
   "mimetype": "text/x-python",
   "name": "python",
   "nbconvert_exporter": "python",
   "pygments_lexer": "ipython3",
   "version": "3.6.5"
  }
 },
 "nbformat": 4,
 "nbformat_minor": 2
}
